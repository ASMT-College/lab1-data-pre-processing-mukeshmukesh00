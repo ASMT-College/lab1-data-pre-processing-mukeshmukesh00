{
  "nbformat": 4,
  "nbformat_minor": 0,
  "metadata": {
    "colab": {
      "provenance": [],
      "toc_visible": true,
      "authorship_tag": "ABX9TyMaRov3RLXHkkmCzw2gsckL",
      "include_colab_link": true
    },
    "kernelspec": {
      "name": "python3",
      "display_name": "Python 3"
    },
    "language_info": {
      "name": "python"
    }
  },
  "cells": [
    {
      "cell_type": "markdown",
      "metadata": {
        "id": "view-in-github",
        "colab_type": "text"
      },
      "source": [
        "<a href=\"https://colab.research.google.com/github/ASMT-College/lab1-data-pre-processing-mukeshmukesh00/blob/main/LAB1.ipynb\" target=\"_parent\"><img src=\"https://colab.research.google.com/assets/colab-badge.svg\" alt=\"Open In Colab\"/></a>"
      ]
    },
    {
      "cell_type": "markdown",
      "source": [
        "## 1.1 Data Cleaning"
      ],
      "metadata": {
        "id": "w2-h8uPmKgX9"
      }
    },
    {
      "cell_type": "code",
      "execution_count": 9,
      "metadata": {
        "colab": {
          "base_uri": "https://localhost:8080/"
        },
        "id": "P0MSbhUHJuu7",
        "outputId": "871c46f5-8212-404e-9e89-4d6cd5d75d8c"
      },
      "outputs": [
        {
          "output_type": "stream",
          "name": "stdout",
          "text": [
            "\t--- Mukesh ---\n",
            "\n",
            "Initial Data:\n",
            "    ID     Name   Age       Department   Salary\n",
            "0   1     John  28.0               HR  50000.0\n",
            "1   2     Jane  35.0          Finance  60000.0\n",
            "2   3    Emily   NaN               HR  55000.0\n",
            "3   4  Michael  40.0  Human Resources      NaN\n",
            "4   5    Sarah  29.0               IT  52000.0\n",
            "\n",
            "Cleaned Data:\n",
            "    ID     Name   Age Department   Salary\n",
            "0   1     John  28.0         HR  50000.0\n",
            "1   2     Jane  35.0    Finance  60000.0\n",
            "2   3    Emily  35.7         HR  55000.0\n",
            "3   4  Michael  40.0         HR  58100.0\n",
            "4   5    Sarah  29.0         IT  52000.0\n"
          ]
        }
      ],
      "source": [
        "import pandas as pd\n",
        "print(\"\\t--- Mukesh ---\")\n",
        "df = pd.read_csv('employee_data.csv')\n",
        "print(\"\\nInitial Data:\\n\", df.head())\n",
        "df = df.fillna({\n",
        "    'Age': df['Age'].mean(),\n",
        "    'Salary': df['Salary'].mean()\n",
        "})\n",
        "df['Department'] = df['Department'].replace({\n",
        "    'Human Resources': 'HR',\n",
        "    'H.R.': 'HR',\n",
        "    'hr': 'HR'\n",
        "})\n",
        "df.drop_duplicates(subset='ID', keep='first', inplace=True)\n",
        "print(\"\\nCleaned Data:\\n\", df.head())\n"
      ]
    },
    {
      "cell_type": "markdown",
      "source": [
        "## 1.2 Normalization"
      ],
      "metadata": {
        "id": "4YSRdNXCKT5e"
      }
    },
    {
      "cell_type": "code",
      "source": [
        "import pandas as pd\n",
        "from sklearn.preprocessing import MinMaxScaler\n",
        "print(\"\\t--- Mukesh ---\")\n",
        "# Step 1: Load the dataset\n",
        "df = pd.read_csv('student_scores.csv')\n",
        "print(\"\\nInitial Data:\\n\", df.head())\n",
        "# Step 2: Apply Min-Max normalization\n",
        "scaler = MinMaxScaler()\n",
        "df[['Math', 'Science', 'English']] = scaler.fit_transform(df[['Math', 'Science', 'English']])\n",
        "print(\"\\nNormalized Scores:\\n\", df.head())"
      ],
      "metadata": {
        "colab": {
          "base_uri": "https://localhost:8080/"
        },
        "id": "8rZsqaB0KdPO",
        "outputId": "d348b23b-533e-4f23-edec-9b44a88797fd"
      },
      "execution_count": 8,
      "outputs": [
        {
          "output_type": "stream",
          "name": "stdout",
          "text": [
            "\t--- Mukesh ---\n",
            "\n",
            "Initial Data:\n",
            "    StudentID  Math  Science  English\n",
            "0          1    78       65       80\n",
            "1          2    88       75       85\n",
            "2          3    60       50       55\n",
            "3          4    90       78       92\n",
            "4          5    55       48       58\n",
            "\n",
            "Normalized Scores:\n",
            "    StudentID      Math  Science   English\n",
            "0          1  0.657143  0.53125  0.675676\n",
            "1          2  0.942857  0.84375  0.810811\n",
            "2          3  0.142857  0.06250  0.000000\n",
            "3          4  1.000000  0.93750  1.000000\n",
            "4          5  0.000000  0.00000  0.081081\n"
          ]
        }
      ]
    },
    {
      "cell_type": "markdown",
      "source": [
        "## 1.3 Data Binning"
      ],
      "metadata": {
        "id": "xsN5khWJKpwj"
      }
    },
    {
      "cell_type": "code",
      "source": [
        "import pandas as pd\n",
        "print(\"\\t--- Mukesh ---\")\n",
        "\n",
        "df = pd.read_csv('customer_ages.csv')\n",
        "print(\"\\nInitial Data:\\n\", df.head())\n",
        "\n",
        "bins = [18, 30, 50, 100]\n",
        "labels = ['Young', 'Middle-aged', 'Senior']\n",
        "df['AgeGroup'] = pd.cut(df['Age'], bins=bins, labels=labels, right=False)\n",
        "print(\"\\nData after Binning:\\n\", df.head())\n",
        "\n",
        "age_group_distribution = df['AgeGroup'].value_counts()\n",
        "print(\"\\nAge Group Distribution:\\n\", age_group_distribution)\n"
      ],
      "metadata": {
        "colab": {
          "base_uri": "https://localhost:8080/"
        },
        "id": "V1VDqmapKt3L",
        "outputId": "b9873c1c-d5b1-4f57-fe55-7fd0bfa2272b"
      },
      "execution_count": 7,
      "outputs": [
        {
          "output_type": "stream",
          "name": "stdout",
          "text": [
            "\t--- Mukesh ---\n",
            "\n",
            "Initial Data:\n",
            "    CustomerID  Age\n",
            "0           1   25\n",
            "1           2   42\n",
            "2           3   36\n",
            "3           4   53\n",
            "4           5   28\n",
            "\n",
            "Data after Binning:\n",
            "    CustomerID  Age     AgeGroup\n",
            "0           1   25        Young\n",
            "1           2   42  Middle-aged\n",
            "2           3   36  Middle-aged\n",
            "3           4   53       Senior\n",
            "4           5   28        Young\n",
            "\n",
            "Age Group Distribution:\n",
            " AgeGroup\n",
            "Middle-aged    7\n",
            "Young          5\n",
            "Senior         3\n",
            "Name: count, dtype: int64\n"
          ]
        }
      ]
    },
    {
      "cell_type": "markdown",
      "source": [
        "## 1.4 Discretization"
      ],
      "metadata": {
        "id": "D6eup4v6K19p"
      }
    },
    {
      "cell_type": "code",
      "source": [
        "import pandas as pd\n",
        "print(\"\\t--- Mukesh ---\")\n",
        "df = pd.read_csv('sales_data.csv')\n",
        "print(\"\\nInitial Data:\\n\", df.head())\n",
        "bins = [0, 5000, 20000, float('inf')]\n",
        "labels = ['Low', 'Medium', 'High']\n",
        "df['SalesCategory'] = pd.cut(df['Sales'], bins=bins, labels=labels)\n",
        "print(\"\\nData after Discretization:\\n\", df.head())\n",
        "sales_category_distribution = df['SalesCategory'].value_counts()\n",
        "print(\"\\nSales Category Distribution:\\n\", sales_category_distribution)\n"
      ],
      "metadata": {
        "colab": {
          "base_uri": "https://localhost:8080/"
        },
        "id": "PDd4xkqMK3HZ",
        "outputId": "4cb4a2a8-1884-4b79-d007-0939a672e16f"
      },
      "execution_count": 6,
      "outputs": [
        {
          "output_type": "stream",
          "name": "stdout",
          "text": [
            "\t--- Mukesh ---\n",
            "\n",
            "Initial Data:\n",
            "       Month  Sales\n",
            "0   January  15000\n",
            "1  February  18000\n",
            "2     March  12000\n",
            "3     April  30000\n",
            "4       May  22000\n",
            "\n",
            "Data after Discretization:\n",
            "       Month  Sales SalesCategory\n",
            "0   January  15000        Medium\n",
            "1  February  18000        Medium\n",
            "2     March  12000        Medium\n",
            "3     April  30000          High\n",
            "4       May  22000          High\n",
            "\n",
            "Sales Category Distribution:\n",
            " SalesCategory\n",
            "Medium    7\n",
            "High      4\n",
            "Low       1\n",
            "Name: count, dtype: int64\n"
          ]
        }
      ]
    },
    {
      "cell_type": "markdown",
      "source": [
        "## 1.5 Feature Selection"
      ],
      "metadata": {
        "id": "WcCoKvqlK8IL"
      }
    },
    {
      "cell_type": "code",
      "source": [
        "import pandas as pd\n",
        "from sklearn.feature_selection import SelectKBest, chi2\n",
        "print(\"\\t--- Mukesh ---\")\n",
        "\n",
        "df = pd.read_csv('medical_data.csv')\n",
        "print(\"\\nInitial Data:\\n\", df.head())\n",
        "\n",
        "X = df.drop(columns=['Disease'])\n",
        "y = df['Disease']\n",
        "\n",
        "selector = SelectKBest(score_func=chi2, k=3)\n",
        "selector.fit(X, y)\n",
        "\n",
        "top_features = X.columns[selector.get_support()]\n",
        "print(\"\\nTop 3 Features for Predicting Disease:\\n\", top_features)"
      ],
      "metadata": {
        "colab": {
          "base_uri": "https://localhost:8080/"
        },
        "id": "fMJGrW6AK-83",
        "outputId": "a8d870a2-6064-48b2-c03e-d529387e028b"
      },
      "execution_count": 5,
      "outputs": [
        {
          "output_type": "stream",
          "name": "stdout",
          "text": [
            "\t--- Mukesh ---\n",
            "\n",
            "Initial Data:\n",
            "    PatientID  Age  BloodPressure  Cholesterol  Glucose  HeartRate  Disease\n",
            "0          1   45            130          180       95         70        1\n",
            "1          2   50            140          200      105         75        1\n",
            "2          3   60            150          240      120         80        1\n",
            "3          4   40            120          170       90         65        0\n",
            "4          5   35            110          160       85         60        0\n",
            "\n",
            "Top 3 Features for Predicting Disease:\n",
            " Index(['Age', 'Cholesterol', 'Glucose'], dtype='object')\n"
          ]
        }
      ]
    }
  ]
}